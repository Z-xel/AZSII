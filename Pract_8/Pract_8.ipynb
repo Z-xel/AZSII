{
  "cells": [
    {
      "cell_type": "markdown",
      "metadata": {
        "id": "FKl06fC8MqgR"
      },
      "source": [
        "# Практическая работа №7\n",
        "\n",
        "# Выполнил студент группы ББМО-01-23 Курдюков А.А.\n",
        "\n",
        "## Шаги выполнения\n",
        "\n",
        "### Шаг 1: Защита с помощью Adversarial Training\n",
        "\n",
        "\n"
      ]
    },
    {
      "cell_type": "code",
      "source": [
        "import tensorflow as tf\n",
        "import numpy as np\n",
        "from tensorflow.keras.datasets import mnist\n",
        "\n",
        "# Загрузка данных MNIST\n",
        "(train_images, train_labels), (test_images, test_labels) = mnist.load_data()\n",
        "\n",
        "# Нормализация данных\n",
        "train_images = train_images / 255.0\n",
        "test_images = test_images / 255.0\n",
        "\n",
        "# Преобразование меток в one-hot encoding\n",
        "train_labels = tf.keras.utils.to_categorical(train_labels, 10)\n",
        "test_labels = tf.keras.utils.to_categorical(test_labels, 10)\n",
        "\n",
        "# Уменьшаем количество обучающих изображений до 1000\n",
        "train_images = train_images[:1000]\n",
        "train_labels = train_labels[:1000]\n",
        "\n",
        "# Функция FGSM атаки\n",
        "def fgsm_attack(image, epsilon, gradient):\n",
        "    perturbation = epsilon * np.sign(gradient)\n",
        "    adversarial_image = image + perturbation\n",
        "    adversarial_image = np.clip(adversarial_image, 0, 1)  # Ограничение значений пикселей\n",
        "    return adversarial_image\n",
        "\n",
        "# Функция для генерации противоречивых примеров\n",
        "def generate_adversarial_examples(model, images, labels, epsilon):\n",
        "    adversarial_images = []\n",
        "    for i in range(len(images)):\n",
        "        image = tf.convert_to_tensor(images[i].reshape((1, 28, 28, 1)), dtype=tf.float32)  # Преобразование в tf.Tensor\n",
        "        label = tf.convert_to_tensor(labels[i].reshape((1, 10)), dtype=tf.float32)  # Преобразование метки в Tensor\n",
        "\n",
        "        with tf.GradientTape() as tape:\n",
        "            tape.watch(image)\n",
        "            prediction = model(image)\n",
        "            loss = tf.keras.losses.categorical_crossentropy(label, prediction)\n",
        "        gradient = tape.gradient(loss, image)\n",
        "        adversarial_image = fgsm_attack(image.numpy(), epsilon, gradient.numpy())  # Конвертируем обратно в numpy\n",
        "        adversarial_images.append(adversarial_image.reshape(28, 28))  # Преобразуем в форму (28, 28)\n",
        "\n",
        "    return np.array(adversarial_images)\n",
        "\n",
        "# Создание модели\n",
        "def create_model():\n",
        "    model = tf.keras.Sequential([\n",
        "        tf.keras.layers.Flatten(input_shape=(28, 28)),\n",
        "        tf.keras.layers.Dense(128, activation='relu'),\n",
        "        tf.keras.layers.Dense(10, activation='softmax')\n",
        "    ])\n",
        "    model.compile(optimizer='adam', loss='categorical_crossentropy', metrics=['accuracy'])\n",
        "    return model\n",
        "\n",
        "# Обучение модели с противоречивыми примерами\n",
        "def adversarial_training(model, train_images, train_labels, epsilon):\n",
        "    for epoch in range(5):  # Короткое обучение для демонстрации\n",
        "        for i in range(0, len(train_images), 32):\n",
        "            batch_images = train_images[i:i+32]\n",
        "            batch_labels = train_labels[i:i+32]\n",
        "            # Генерация противоречивых примеров для текущей партии данных\n",
        "            adversarial_images = generate_adversarial_examples(model, batch_images, batch_labels, epsilon)\n",
        "            # Объединение оригинальных и противоречивых примеров\n",
        "            combined_images = np.concatenate([batch_images, adversarial_images], axis=0)\n",
        "            combined_labels = np.concatenate([batch_labels, batch_labels], axis=0)\n",
        "            # Обучение на комбинированных данных\n",
        "            model.train_on_batch(combined_images, combined_labels)\n",
        "\n",
        "# Инициализация модели\n",
        "model = create_model()\n",
        "\n",
        "# Тренировка модели с защитой на противоречивых примерах\n",
        "adversarial_training(model, train_images, train_labels, epsilon=0.1)\n",
        "\n",
        "# Сохранение защищенной модели\n",
        "model.save('adversarial_trained_model.h5')"
      ],
      "metadata": {
        "colab": {
          "base_uri": "https://localhost:8080/"
        },
        "id": "r57pJsllqCd8",
        "outputId": "881a2d9d-5ba1-49ba-f1bd-5dc5344745bc"
      },
      "execution_count": null,
      "outputs": [
        {
          "output_type": "stream",
          "name": "stderr",
          "text": [
            "WARNING:absl:You are saving your model as an HDF5 file via `model.save()` or `keras.saving.save_model(model)`. This file format is considered legacy. We recommend using instead the native Keras format, e.g. `model.save('my_model.keras')` or `keras.saving.save_model(model, 'my_model.keras')`. \n"
          ]
        }
      ]
    },
    {
      "cell_type": "markdown",
      "metadata": {
        "id": "jJsiCu2_NCS_"
      },
      "source": [
        "###Шаг 2: Градиентная маскировка (Gradient Masking)"
      ]
    },
    {
      "cell_type": "code",
      "source": [
        "import tensorflow as tf\n",
        "from tensorflow.keras.layers import Activation\n",
        "from tensorflow.keras.datasets import mnist\n",
        "from tensorflow.keras.utils import to_categorical\n",
        "\n",
        "# Загрузка и подготовка данных\n",
        "(train_images, train_labels), (test_images, test_labels) = mnist.load_data()\n",
        "\n",
        "# Нормализация данных\n",
        "train_images = train_images / 255.0\n",
        "test_images = test_images / 255.0\n",
        "\n",
        "# Преобразование меток в one-hot encoding\n",
        "train_labels = to_categorical(train_labels, 10)\n",
        "test_labels = to_categorical(test_labels, 10)\n",
        "\n",
        "# Обновление модели для градиентной маскировки\n",
        "def create_masked_model():\n",
        "    model = tf.keras.Sequential([\n",
        "        tf.keras.layers.Flatten(input_shape=(28, 28)),\n",
        "        tf.keras.layers.Dense(128, activation='relu'),\n",
        "        tf.keras.layers.Dense(10),  # Без активации на последнем слое\n",
        "        Activation('softplus')  # Используем softplus вместо softmax для градиентной маскировки\n",
        "    ])\n",
        "    model.compile(optimizer='adam', loss='categorical_crossentropy', metrics=['accuracy'])\n",
        "    return model\n",
        "\n",
        "# Обучение модели с градиентной маскировкой\n",
        "masked_model = create_masked_model()\n",
        "masked_model.fit(train_images, train_labels, epochs=5)\n",
        "\n",
        "# Сохранение модели с градиентной маскировкой\n",
        "masked_model.save('masked_model.h5')"
      ],
      "metadata": {
        "colab": {
          "base_uri": "https://localhost:8080/"
        },
        "id": "lLuiTyrdd_1I",
        "outputId": "ec949d08-3c9a-4226-f25e-4243e5050e82"
      },
      "execution_count": null,
      "outputs": [
        {
          "output_type": "stream",
          "name": "stdout",
          "text": [
            "Epoch 1/5\n",
            "\u001b[1m1875/1875\u001b[0m \u001b[32m━━━━━━━━━━━━━━━━━━━━\u001b[0m\u001b[37m\u001b[0m \u001b[1m6s\u001b[0m 2ms/step - accuracy: 0.8795 - loss: 0.4511\n",
            "Epoch 2/5\n",
            "\u001b[1m1875/1875\u001b[0m \u001b[32m━━━━━━━━━━━━━━━━━━━━\u001b[0m\u001b[37m\u001b[0m \u001b[1m3s\u001b[0m 2ms/step - accuracy: 0.9638 - loss: 0.1247\n",
            "Epoch 3/5\n",
            "\u001b[1m1875/1875\u001b[0m \u001b[32m━━━━━━━━━━━━━━━━━━━━\u001b[0m\u001b[37m\u001b[0m \u001b[1m3s\u001b[0m 2ms/step - accuracy: 0.9753 - loss: 0.0842\n",
            "Epoch 4/5\n",
            "\u001b[1m1875/1875\u001b[0m \u001b[32m━━━━━━━━━━━━━━━━━━━━\u001b[0m\u001b[37m\u001b[0m \u001b[1m4s\u001b[0m 2ms/step - accuracy: 0.9804 - loss: 0.0641\n",
            "Epoch 5/5\n",
            "\u001b[1m1875/1875\u001b[0m \u001b[32m━━━━━━━━━━━━━━━━━━━━\u001b[0m\u001b[37m\u001b[0m \u001b[1m4s\u001b[0m 2ms/step - accuracy: 0.9850 - loss: 0.0491\n"
          ]
        },
        {
          "output_type": "stream",
          "name": "stderr",
          "text": [
            "WARNING:absl:You are saving your model as an HDF5 file via `model.save()` or `keras.saving.save_model(model)`. This file format is considered legacy. We recommend using instead the native Keras format, e.g. `model.save('my_model.keras')` or `keras.saving.save_model(model, 'my_model.keras')`. \n"
          ]
        }
      ]
    },
    {
      "cell_type": "markdown",
      "source": [
        "## Шаг 3: Регуляризация и нормализация для повышения устойчивости"
      ],
      "metadata": {
        "id": "3i9N-vKjqBRj"
      }
    },
    {
      "cell_type": "code",
      "execution_count": null,
      "metadata": {
        "colab": {
          "base_uri": "https://localhost:8080/"
        },
        "id": "ySy0YHHJNWwo",
        "outputId": "18f44158-457c-4c8d-b5b3-4ab2c50b7377"
      },
      "outputs": [
        {
          "output_type": "stream",
          "name": "stdout",
          "text": [
            "Epoch 1/5\n",
            "\u001b[1m1875/1875\u001b[0m \u001b[32m━━━━━━━━━━━━━━━━━━━━\u001b[0m\u001b[37m\u001b[0m \u001b[1m5s\u001b[0m 2ms/step - accuracy: 0.7944 - loss: 1.3445\n",
            "Epoch 2/5\n",
            "\u001b[1m1875/1875\u001b[0m \u001b[32m━━━━━━━━━━━━━━━━━━━━\u001b[0m\u001b[37m\u001b[0m \u001b[1m4s\u001b[0m 2ms/step - accuracy: 0.8670 - loss: 0.6272\n",
            "Epoch 3/5\n",
            "\u001b[1m1875/1875\u001b[0m \u001b[32m━━━━━━━━━━━━━━━━━━━━\u001b[0m\u001b[37m\u001b[0m \u001b[1m3s\u001b[0m 2ms/step - accuracy: 0.8644 - loss: 0.6183\n",
            "Epoch 4/5\n",
            "\u001b[1m1875/1875\u001b[0m \u001b[32m━━━━━━━━━━━━━━━━━━━━\u001b[0m\u001b[37m\u001b[0m \u001b[1m3s\u001b[0m 2ms/step - accuracy: 0.8584 - loss: 0.6296\n",
            "Epoch 5/5\n",
            "\u001b[1m1875/1875\u001b[0m \u001b[32m━━━━━━━━━━━━━━━━━━━━\u001b[0m\u001b[37m\u001b[0m \u001b[1m3s\u001b[0m 2ms/step - accuracy: 0.8519 - loss: 0.6299\n"
          ]
        },
        {
          "output_type": "stream",
          "name": "stderr",
          "text": [
            "WARNING:absl:You are saving your model as an HDF5 file via `model.save()` or `keras.saving.save_model(model)`. This file format is considered legacy. We recommend using instead the native Keras format, e.g. `model.save('my_model.keras')` or `keras.saving.save_model(model, 'my_model.keras')`. \n"
          ]
        }
      ],
      "source": [
        "# Модель с регуляризацией и нормализацией\n",
        "def create_regularized_model():\n",
        " model = tf.keras.Sequential([\n",
        " tf.keras.layers.Flatten(input_shape=(28, 28)),\n",
        " tf.keras.layers.Dense(128, activation='relu',\n",
        "kernel_regularizer=tf.keras.regularizers.l2(0.01)),\n",
        " tf.keras.layers.Dropout(0.5),tf.keras.layers.BatchNormalization(),\n",
        " tf.keras.layers.Dense(10, activation='softmax')\n",
        " ])\n",
        " model.compile(optimizer='adam', loss='categorical_crossentropy',\n",
        "metrics=['accuracy'])\n",
        " return model\n",
        "# Обучение модели с регуляризацией и нормализацией\n",
        "regularized_model = create_regularized_model()\n",
        "regularized_model.fit(train_images, train_labels, epochs=5)\n",
        "# Сохранение модели с регуляризацией\n",
        "regularized_model.save('regularized_model.h5')"
      ]
    },
    {
      "cell_type": "markdown",
      "metadata": {
        "id": "6Akot1nnZck6"
      },
      "source": [
        "###Шаг 4:  Оценка моделей на противоречивых примерах"
      ]
    },
    {
      "cell_type": "code",
      "execution_count": null,
      "metadata": {
        "id": "LGP6uDGAZvJX",
        "colab": {
          "base_uri": "https://localhost:8080/"
        },
        "outputId": "d14fc612-c0b1-49ae-c001-8a5c2be07df7"
      },
      "outputs": [
        {
          "output_type": "stream",
          "name": "stderr",
          "text": [
            "WARNING:absl:Compiled the loaded model, but the compiled metrics have yet to be built. `model.compile_metrics` will be empty until you train or evaluate the model.\n"
          ]
        },
        {
          "output_type": "stream",
          "name": "stdout",
          "text": [
            "\u001b[1m313/313\u001b[0m \u001b[32m━━━━━━━━━━━━━━━━━━━━\u001b[0m\u001b[37m\u001b[0m \u001b[1m1s\u001b[0m 2ms/step - accuracy: 0.4909 - loss: 1.4584\n",
            "Accuracy of protected model on adversarial examples: 0.5533999800682068\n"
          ]
        }
      ],
      "source": [
        "# Загрузка атакованной модели\n",
        "protected_model = tf.keras.models.load_model('adversarial_trained_model.h5')\n",
        "# Генерация противоречивых примеров для тестовых данных\n",
        "adversarial_test_images = generate_adversarial_examples(protected_model,\n",
        "test_images, test_labels, epsilon=0.1)\n",
        "# Оценка защищенной модели на противоречивых примерах\n",
        "test_loss, test_acc = protected_model.evaluate(adversarial_test_images,test_labels)\n",
        "print(f'Accuracy of protected model on adversarial examples: {test_acc}')"
      ]
    },
    {
      "cell_type": "code",
      "source": [
        "# Загрузка атакованной модели\n",
        "regularized_model = tf.keras.models.load_model('regularized_model.h5')\n",
        "masked_model = tf.keras.models.load_model('masked_model.h5')\n",
        "\n",
        "# Оценка модели с регуляризацией и нормализацией на противоречивых примерах\n",
        "test_loss, test_acc = regularized_model.evaluate(adversarial_test_images,test_labels)\n",
        "print(f'Accuracy of regularized model on adversarial examples: {test_acc}')\n",
        "\n",
        "# Оценка модели с градиентной маскировкой на противоречивых примерах\n",
        "test_loss, test_acc = masked_model.evaluate(adversarial_test_images,test_labels)\n",
        "print(f'Accuracy of masked model on adversarial examples: {test_acc}')\n"
      ],
      "metadata": {
        "colab": {
          "base_uri": "https://localhost:8080/"
        },
        "id": "pMV-1pXr1W0b",
        "outputId": "f8c9a697-7514-43d1-aa10-d39ee6d06ddc"
      },
      "execution_count": 11,
      "outputs": [
        {
          "output_type": "stream",
          "name": "stderr",
          "text": [
            "WARNING:absl:Compiled the loaded model, but the compiled metrics have yet to be built. `model.compile_metrics` will be empty until you train or evaluate the model.\n",
            "WARNING:absl:Compiled the loaded model, but the compiled metrics have yet to be built. `model.compile_metrics` will be empty until you train or evaluate the model.\n"
          ]
        },
        {
          "output_type": "stream",
          "name": "stdout",
          "text": [
            "\u001b[1m313/313\u001b[0m \u001b[32m━━━━━━━━━━━━━━━━━━━━\u001b[0m\u001b[37m\u001b[0m \u001b[1m1s\u001b[0m 2ms/step - accuracy: 0.7163 - loss: 1.0090\n",
            "Accuracy of regularized model on adversarial examples: 0.7599999904632568\n",
            "\u001b[1m313/313\u001b[0m \u001b[32m━━━━━━━━━━━━━━━━━━━━\u001b[0m\u001b[37m\u001b[0m \u001b[1m1s\u001b[0m 3ms/step - accuracy: 0.6308 - loss: 1.4771\n",
            "Accuracy of masked model on adversarial examples: 0.6704000234603882\n"
          ]
        }
      ]
    },
    {
      "cell_type": "markdown",
      "source": [
        "#Вывод:\n",
        "В ходе работы была проведена реализация защиты модели от атак с использованием противоречивых примеров (adversarial examples). Для этого использовались методы генерации противоречивых примеров с помощью атаки FGSM (Fast Gradient Sign Method), градиентная маскировка (masked model) и модель с регуляризацией и нормализацией. Модель была обучена на данных, включающих как оригинальные изображения, так и специально созданные противоречивые примеры, что должно было улучшить её устойчивость к атакам. Для реализации градиентной маскировки в модели использовалась функция активации softplus на последнем слое вместо стандартного softmax, что позволило смягчить влияние резких градиентов и повысить устойчивость к атакам.\n",
        "\n",
        "Результаты оценки защищенных моделей на противоречивых примерах показали следующие результаты. Модель с градиентной маскировкой продемонстрировала точность 0.67, что является хорошим результатом, однако она уступала модели с регуляризацией и нормализацией, которая показала значительно более высокую точность — 0.7599. Эти результаты свидетельствуют о том, что защита с регуляризацией и нормализацией на противоречивых примерах оказалась наиболее эффективной из всех исследованных методов. Точность модели с регуляризацией и нормализацией на противоречивых примерах составила 75,99%, что на 8,29% выше, чем у модели с градиентной маскировкой, что указывает на её большую способность устойчивости к атакам.\n",
        "\n",
        "Таким образом, можно сделать вывод, что среди рассмотренных методов защиты наиболее эффективной оказалась модель с регуляризацией и нормализацией. Этот метод показал наибольшую точность на противоречивых примерах, что подтверждает его высокую эффективность в защите от атак. Модель с градиентной маскировкой также показала хорошие результаты, но уступила в производительности модели с регуляризацией."
      ],
      "metadata": {
        "id": "cq9s_3FMEsj3"
      }
    }
  ],
  "metadata": {
    "colab": {
      "provenance": [],
      "gpuType": "T4"
    },
    "kernelspec": {
      "display_name": "Python 3",
      "name": "python3"
    },
    "language_info": {
      "name": "python"
    },
    "accelerator": "GPU"
  },
  "nbformat": 4,
  "nbformat_minor": 0
}